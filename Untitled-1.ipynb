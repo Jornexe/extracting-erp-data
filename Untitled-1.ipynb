{
 "cells": [
  {
   "cell_type": "code",
   "execution_count": 27,
   "metadata": {},
   "outputs": [
    {
     "name": "stdout",
     "output_type": "stream",
     "text": [
      "60 60 3 60\n"
     ]
    }
   ],
   "source": [
    "import os\n",
    "import numpy as np\n",
    "import pandas as panda\n",
    "from scipy.signal import find_peaks\n",
    "\n",
    "\n",
    "\n",
    "# Directory containing your ESR files\n",
    "directory_path = r\"./dataMS/run1\"\n",
    "\n",
    "# List all files in the directory\n",
    "esr_files = [f for f in os.listdir(directory_path) if f.endswith(\".ESR\")]\n",
    "\n",
    "files = []\n",
    "intensityPEAKuiqueName = []\n",
    "xvals = []\n",
    "s60 = []\n",
    "for esr_file in esr_files:\n",
    "    file_path = os.path.join(directory_path, esr_file)\n",
    "    \n",
    "    # Read intensity data from the ESR file\n",
    "    intensity_data = []\n",
    "    xx = []\n",
    "    with open(file_path, 'r') as f:\n",
    "        read_data = False\n",
    "        for line in f:\n",
    "            if read_data:\n",
    "                fields = line.strip().split('\\t')\n",
    "                if len(fields) >= 2:\n",
    "                    intensity_data.append(float(fields[1]))\n",
    "                    xx.append(float(fields[0]))\n",
    "            elif line.startswith(\"FIELD (G)\"):\n",
    "                read_data = True\n",
    "    \n",
    "\n",
    "    \n",
    "    # Find peaks using scipy's find_peaks\n",
    "    peaks, _ = find_peaks(intensity_data, prominence=3)\n",
    "    # print(intensity_data[peaks[0]], xx[peaks[0]], esr_file)\n",
    "    if len(peaks) != 0:\n",
    "        intensityPEAKuiqueName.append(intensity_data[peaks[0]])\n",
    "        xvals.append(xx[peaks[0]])\n",
    "        files.append(esr_file)\n",
    "for x in range(len(files)):\n",
    "    s60.append(x*60)\n",
    "print(len(s60), len(xvals), len(peaks), len(files))\n",
    "meows = panda.DataFrame(\n",
    "    {\n",
    "        'seconds': s60,\n",
    "        'x': xvals,\n",
    "        'intensity': intensityPEAKuiqueName,\n",
    "        'file name': files\n",
    "    }\n",
    ")\n",
    "meows.to_csv(\"MSrun1.csv\", index=False)"
   ]
  }
 ],
 "metadata": {
  "kernelspec": {
   "display_name": "Python 3",
   "language": "python",
   "name": "python3"
  },
  "language_info": {
   "codemirror_mode": {
    "name": "ipython",
    "version": 3
   },
   "file_extension": ".py",
   "mimetype": "text/x-python",
   "name": "python",
   "nbconvert_exporter": "python",
   "pygments_lexer": "ipython3",
   "version": "3.11.5"
  },
  "orig_nbformat": 4
 },
 "nbformat": 4,
 "nbformat_minor": 2
}
